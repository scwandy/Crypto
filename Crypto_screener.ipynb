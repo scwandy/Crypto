{
  "nbformat": 4,
  "nbformat_minor": 0,
  "metadata": {
    "colab": {
      "provenance": [],
      "authorship_tag": "ABX9TyPCMD6bzTtyvmKFht9H4QAk",
      "include_colab_link": true
    },
    "kernelspec": {
      "name": "python3",
      "display_name": "Python 3"
    },
    "language_info": {
      "name": "python"
    }
  },
  "cells": [
    {
      "cell_type": "markdown",
      "metadata": {
        "id": "view-in-github",
        "colab_type": "text"
      },
      "source": [
        "<a href=\"https://colab.research.google.com/github/scwandy/Crypto/blob/main/Crypto_screener.ipynb\" target=\"_parent\"><img src=\"https://colab.research.google.com/assets/colab-badge.svg\" alt=\"Open In Colab\"/></a>"
      ]
    },
    {
      "cell_type": "markdown",
      "source": [
        "Download the full token list from Coingekco"
      ],
      "metadata": {
        "id": "kG3FAJosbOHS"
      }
    },
    {
      "cell_type": "code",
      "source": [
        "import requests\n",
        "import csv\n",
        "\n",
        "url = 'https://api.coingecko.com/api/v3/coins/list'\n",
        "response = requests.get(url)\n",
        "\n",
        "coins = response.json()\n",
        "\n",
        "with open('coin_list.csv', 'w', newline='') as csvfile:\n",
        "    writer = csv.writer(csvfile)\n",
        "    writer.writerow(['id', 'symbol', 'name'])\n",
        "    for coin in coins:\n",
        "        writer.writerow([coin['id'], coin['symbol'], coin['name']])"
      ],
      "metadata": {
        "id": "JssjNESObQPu"
      },
      "execution_count": 30,
      "outputs": []
    },
    {
      "cell_type": "code",
      "source": [
        "coin_list.describe()"
      ],
      "metadata": {
        "colab": {
          "base_uri": "https://localhost:8080/",
          "height": 175
        },
        "id": "kb5gHot1bt8q",
        "outputId": "fc5c9be9-e576-4271-b5aa-eb5c37e6ef63"
      },
      "execution_count": 31,
      "outputs": [
        {
          "output_type": "execute_result",
          "data": {
            "text/plain": [
              "            id symbol    name\n",
              "count    10702  10701   10702\n",
              "unique   10702   9052   10702\n",
              "top     01coin   gold  01coin\n",
              "freq         1      8       1"
            ],
            "text/html": [
              "\n",
              "  <div id=\"df-a7334c1b-9bf4-447f-92f4-6b3c632cd2e4\">\n",
              "    <div class=\"colab-df-container\">\n",
              "      <div>\n",
              "<style scoped>\n",
              "    .dataframe tbody tr th:only-of-type {\n",
              "        vertical-align: middle;\n",
              "    }\n",
              "\n",
              "    .dataframe tbody tr th {\n",
              "        vertical-align: top;\n",
              "    }\n",
              "\n",
              "    .dataframe thead th {\n",
              "        text-align: right;\n",
              "    }\n",
              "</style>\n",
              "<table border=\"1\" class=\"dataframe\">\n",
              "  <thead>\n",
              "    <tr style=\"text-align: right;\">\n",
              "      <th></th>\n",
              "      <th>id</th>\n",
              "      <th>symbol</th>\n",
              "      <th>name</th>\n",
              "    </tr>\n",
              "  </thead>\n",
              "  <tbody>\n",
              "    <tr>\n",
              "      <th>count</th>\n",
              "      <td>10702</td>\n",
              "      <td>10701</td>\n",
              "      <td>10702</td>\n",
              "    </tr>\n",
              "    <tr>\n",
              "      <th>unique</th>\n",
              "      <td>10702</td>\n",
              "      <td>9052</td>\n",
              "      <td>10702</td>\n",
              "    </tr>\n",
              "    <tr>\n",
              "      <th>top</th>\n",
              "      <td>01coin</td>\n",
              "      <td>gold</td>\n",
              "      <td>01coin</td>\n",
              "    </tr>\n",
              "    <tr>\n",
              "      <th>freq</th>\n",
              "      <td>1</td>\n",
              "      <td>8</td>\n",
              "      <td>1</td>\n",
              "    </tr>\n",
              "  </tbody>\n",
              "</table>\n",
              "</div>\n",
              "      <button class=\"colab-df-convert\" onclick=\"convertToInteractive('df-a7334c1b-9bf4-447f-92f4-6b3c632cd2e4')\"\n",
              "              title=\"Convert this dataframe to an interactive table.\"\n",
              "              style=\"display:none;\">\n",
              "        \n",
              "  <svg xmlns=\"http://www.w3.org/2000/svg\" height=\"24px\"viewBox=\"0 0 24 24\"\n",
              "       width=\"24px\">\n",
              "    <path d=\"M0 0h24v24H0V0z\" fill=\"none\"/>\n",
              "    <path d=\"M18.56 5.44l.94 2.06.94-2.06 2.06-.94-2.06-.94-.94-2.06-.94 2.06-2.06.94zm-11 1L8.5 8.5l.94-2.06 2.06-.94-2.06-.94L8.5 2.5l-.94 2.06-2.06.94zm10 10l.94 2.06.94-2.06 2.06-.94-2.06-.94-.94-2.06-.94 2.06-2.06.94z\"/><path d=\"M17.41 7.96l-1.37-1.37c-.4-.4-.92-.59-1.43-.59-.52 0-1.04.2-1.43.59L10.3 9.45l-7.72 7.72c-.78.78-.78 2.05 0 2.83L4 21.41c.39.39.9.59 1.41.59.51 0 1.02-.2 1.41-.59l7.78-7.78 2.81-2.81c.8-.78.8-2.07 0-2.86zM5.41 20L4 18.59l7.72-7.72 1.47 1.35L5.41 20z\"/>\n",
              "  </svg>\n",
              "      </button>\n",
              "      \n",
              "  <style>\n",
              "    .colab-df-container {\n",
              "      display:flex;\n",
              "      flex-wrap:wrap;\n",
              "      gap: 12px;\n",
              "    }\n",
              "\n",
              "    .colab-df-convert {\n",
              "      background-color: #E8F0FE;\n",
              "      border: none;\n",
              "      border-radius: 50%;\n",
              "      cursor: pointer;\n",
              "      display: none;\n",
              "      fill: #1967D2;\n",
              "      height: 32px;\n",
              "      padding: 0 0 0 0;\n",
              "      width: 32px;\n",
              "    }\n",
              "\n",
              "    .colab-df-convert:hover {\n",
              "      background-color: #E2EBFA;\n",
              "      box-shadow: 0px 1px 2px rgba(60, 64, 67, 0.3), 0px 1px 3px 1px rgba(60, 64, 67, 0.15);\n",
              "      fill: #174EA6;\n",
              "    }\n",
              "\n",
              "    [theme=dark] .colab-df-convert {\n",
              "      background-color: #3B4455;\n",
              "      fill: #D2E3FC;\n",
              "    }\n",
              "\n",
              "    [theme=dark] .colab-df-convert:hover {\n",
              "      background-color: #434B5C;\n",
              "      box-shadow: 0px 1px 3px 1px rgba(0, 0, 0, 0.15);\n",
              "      filter: drop-shadow(0px 1px 2px rgba(0, 0, 0, 0.3));\n",
              "      fill: #FFFFFF;\n",
              "    }\n",
              "  </style>\n",
              "\n",
              "      <script>\n",
              "        const buttonEl =\n",
              "          document.querySelector('#df-a7334c1b-9bf4-447f-92f4-6b3c632cd2e4 button.colab-df-convert');\n",
              "        buttonEl.style.display =\n",
              "          google.colab.kernel.accessAllowed ? 'block' : 'none';\n",
              "\n",
              "        async function convertToInteractive(key) {\n",
              "          const element = document.querySelector('#df-a7334c1b-9bf4-447f-92f4-6b3c632cd2e4');\n",
              "          const dataTable =\n",
              "            await google.colab.kernel.invokeFunction('convertToInteractive',\n",
              "                                                     [key], {});\n",
              "          if (!dataTable) return;\n",
              "\n",
              "          const docLinkHtml = 'Like what you see? Visit the ' +\n",
              "            '<a target=\"_blank\" href=https://colab.research.google.com/notebooks/data_table.ipynb>data table notebook</a>'\n",
              "            + ' to learn more about interactive tables.';\n",
              "          element.innerHTML = '';\n",
              "          dataTable['output_type'] = 'display_data';\n",
              "          await google.colab.output.renderOutput(dataTable, element);\n",
              "          const docLink = document.createElement('div');\n",
              "          docLink.innerHTML = docLinkHtml;\n",
              "          element.appendChild(docLink);\n",
              "        }\n",
              "      </script>\n",
              "    </div>\n",
              "  </div>\n",
              "  "
            ]
          },
          "metadata": {},
          "execution_count": 31
        }
      ]
    },
    {
      "cell_type": "code",
      "source": [
        "import pandas as pd\n",
        "\n",
        "coin_list = pd.read_csv('coin_list.csv')\n",
        "print(coin_list.head())"
      ],
      "metadata": {
        "colab": {
          "base_uri": "https://localhost:8080/"
        },
        "id": "ka382gAhbUxc",
        "outputId": "0c0e86e2-3c4f-4387-9fd6-57a9440cac05"
      },
      "execution_count": 32,
      "outputs": [
        {
          "output_type": "stream",
          "name": "stdout",
          "text": [
            "                         id symbol                       name\n",
            "0                    01coin    zoc                     01coin\n",
            "1                    0chain    zcn                        Zus\n",
            "2             0vix-protocol    vix              0VIX Protocol\n",
            "3                        0x    zrx                0x Protocol\n",
            "4  0x0-ai-ai-smart-contract    0x0  0x0.ai: AI Smart Contract\n"
          ]
        }
      ]
    },
    {
      "cell_type": "code",
      "source": [
        "# Get latest coin data from CoinGecko API\n",
        "url = 'https://api.coingecko.com/api/v3/coins/markets'\n",
        "params = {\n",
        "    'vs_currency': 'usd',\n",
        "    'order': 'market_cap_desc',\n",
        "    'per_page': '100',\n",
        "    'page': '1',\n",
        "    'sparkline': 'false'\n",
        "}\n",
        "response = requests.get(url, params=params)\n",
        "data = response.json()\n",
        "\n",
        "# Convert JSON data to pandas DataFrame\n",
        "df = pd.json_normalize(data)\n",
        "\n",
        "# Calculate last close volume\n",
        "df['last_close_volume'] = df['market_cap'] - df['market_cap_change_24h']\n",
        "\n",
        "# Calculate 15-minute average of volume\n",
        "df['turnover_15min_avg'] = df['total_volume'] \\\n",
        "    .rolling(window=20, min_periods=15) \\\n",
        "    .mean() \\\n",
        "    .shift(1) \\\n",
        "    .fillna(df['total_volume'])\n",
        "\n",
        "# Identify coins where last closing volume is 5 times bigger than 15-minute average\n",
        "target_list = df[df['last_close_volume'] > 5 * df['turnover_15min_avg']]['symbol'].tolist()\n",
        "\n",
        "print(target_list)"
      ],
      "metadata": {
        "colab": {
          "base_uri": "https://localhost:8080/"
        },
        "id": "j1V1MyZycAZI",
        "outputId": "9fddbd9f-098f-44a1-a3c4-e6957e771730"
      },
      "execution_count": 34,
      "outputs": [
        {
          "output_type": "stream",
          "name": "stdout",
          "text": [
            "['btc', 'eth', 'usdt', 'bnb', 'usdc', 'xrp', 'ada', 'steth', 'doge', 'matic', 'sol', 'dot', 'ltc', 'busd', 'trx', 'ton', 'okb', 'xmr', 'etc', 'icp', 'xlm', 'fil', 'bch', 'tusd', 'hbar', 'apt', 'cro', 'ldo', 'arb', 'near', 'qnt', 'vet', 'ape', 'algo', 'grt', 'ftm', 'eos', 'sand', 'xrd', 'egld', 'usdp', 'aave', 'theta', 'mana', 'stx', 'frax', 'edgt', 'imx', 'xtz', 'flow', 'axs', 'rndr', 'rpl', 'kcs', 'snx', 'neo', 'crv', 'gt', 'bit', 'usdd', 'klay', 'op', 'wbt', 'chz', 'cfx', 'lunc', 'bsv', 'cspr', 'gmx', 'inj', 'mkr', 'mina', 'btt', 'xec', 'ht', 'dash', 'reth', 'fxs', 'miota', 'xdc', 'bgb', 'cake', 'tkx', 'paxg', 'ceth', 'twt', 'xaut', 'kas', 'gusd', 'zil', 'flr', 'osmo']\n"
          ]
        }
      ]
    }
  ]
}